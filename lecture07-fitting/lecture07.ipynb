{
 "cells": [
  {
   "cell_type": "code",
   "execution_count": 1,
   "metadata": {
    "ExecuteTime": {
     "end_time": "2020-05-06T05:26:24.613205Z",
     "start_time": "2020-05-06T05:18:30.754746Z"
    }
   },
   "outputs": [],
   "source": [
    "import matplotlib.pyplot as plt\n",
    "import pandas as pd\n",
    "import os\n",
    "import numpy as np\n",
    "import datetime\n",
    "import glob\n",
    "from sklearn import datasets, linear_model\n",
    "from sklearn.metrics import mean_squared_error, r2_score\n",
    "from pathlib import Path\n",
    "\n",
    "DOWNLOAD_DIR = '<your-path-here>'\n",
    "\n"
   ]
  },
  {
   "cell_type": "code",
   "execution_count": 2,
   "metadata": {
    "ExecuteTime": {
     "end_time": "2020-05-06T10:25:02.673744Z",
     "start_time": "2020-05-06T10:18:45.858189Z"
    }
   },
   "outputs": [],
   "source": [
    "def read_single_csv_entso_e(file):\n",
    "    return pd.read_csv(file, sep='\\t', encoding='utf-16')\n",
    "\n",
    "\n",
    "def load_complete_entso_e_data(directory):\n",
    "\n",
    "    pattern = Path(directory) / '*.csv'\n",
    "    files = glob.glob(str(pattern))\n",
    "    \n",
    "    print(f'Concatenating {len(files)} csv files...')\n",
    "    \n",
    "    each_csv_file = [read_single_csv_entso_e(file) for file in files]\n",
    "    data = pd.concat(each_csv_file, ignore_index=True)\n",
    "\n",
    "    data[\"DateTime\"] = pd.to_datetime(data[\"DateTime\"])\n",
    "\n",
    "    data = data.sort_values(by=[\"AreaName\", \"DateTime\"])\n",
    "\n",
    "    return data\n",
    "\n",
    "\n",
    "power_demand = load_complete_entso_e_data(DOWNLOAD_DIR)"
   ]
  },
  {
   "cell_type": "markdown",
   "metadata": {},
   "source": [
    "What is in there?"
   ]
  },
  {
   "cell_type": "code",
   "execution_count": 3,
   "metadata": {},
   "outputs": [],
   "source": [
    "power_demand"
   ]
  },
  {
   "cell_type": "markdown",
   "metadata": {},
   "source": [
    "Hm... that's a lot of information. Let's reduce it..."
   ]
  },
  {
   "cell_type": "code",
   "execution_count": 4,
   "metadata": {},
   "outputs": [],
   "source": [
    "power_demand.columns"
   ]
  },
  {
   "cell_type": "markdown",
   "metadata": {},
   "source": [
    "Which countries and regions are there?"
   ]
  },
  {
   "cell_type": "code",
   "execution_count": 5,
   "metadata": {},
   "outputs": [],
   "source": [
    "power_demand[\"AreaName\"].unique()"
   ]
  },
  {
   "cell_type": "markdown",
   "metadata": {},
   "source": [
    "puh... a lot! Is Austria there?"
   ]
  },
  {
   "cell_type": "code",
   "execution_count": 6,
   "metadata": {},
   "outputs": [],
   "source": [
    "\"Austria\" in power_demand[\"AreaName\"].values"
   ]
  },
  {
   "cell_type": "markdown",
   "metadata": {},
   "source": [
    "Let's get Austrian data then and..."
   ]
  },
  {
   "cell_type": "code",
   "execution_count": 7,
   "metadata": {
    "ExecuteTime": {
     "end_time": "2020-05-06T10:25:18.289193Z",
     "start_time": "2020-05-06T10:25:13.626072Z"
    }
   },
   "outputs": [],
   "source": [
    "def get_country_data(data, country):\n",
    "    ret_data = data[data[\"AreaName\"] == country]\n",
    "    ret_data.index = ret_data[\"DateTime\"]\n",
    "    return ret_data\n",
    "\n",
    "\n",
    "power_demand_at_mw = get_country_data(power_demand, \"Austria\")"
   ]
  },
  {
   "cell_type": "markdown",
   "metadata": {},
   "source": [
    "## Exercise 1\n",
    "\n",
    "Let's do sum summary statistics. Calculate mean, standard deviation, min, max and the 25%, 50% and 75% quantile of the distribution of the load column. Hint: There may be a single pandas function that does it for you...\n",
    "\n",
    "In a second step, do the same for Germany. Does the *10 rule hold? (everything in Germany is ten times as big as in Austria)"
   ]
  },
  {
   "cell_type": "code",
   "execution_count": null,
   "metadata": {},
   "outputs": [],
   "source": []
  },
  {
   "cell_type": "markdown",
   "metadata": {},
   "source": [
    "Now let's plot Austrian data."
   ]
  },
  {
   "cell_type": "code",
   "execution_count": 8,
   "metadata": {},
   "outputs": [],
   "source": [
    "def plot_data(data, xlabel=\"Time\"):\n",
    "    \n",
    "    data[\"TotalLoadValue\"].plot()\n",
    "    plt.ylabel(\"Average electricity load (MW)\")\n",
    "    plt.xlabel(xlabel)\n",
    "\n",
    "\n",
    "plot_data(power_demand_at_mw, \"Electricity load (MWh)\")"
   ]
  },
  {
   "cell_type": "markdown",
   "metadata": {},
   "source": [
    "Hm... there may be outliers. But how complete is Austrian data?"
   ]
  },
  {
   "cell_type": "code",
   "execution_count": 9,
   "metadata": {},
   "outputs": [],
   "source": [
    "def check_data_completeness(data):\n",
    "    number_of_nas = np.sum(pd.isna(data[\"TotalLoadValue\"]))\n",
    "    number_of_0s = np.sum(data[\"TotalLoadValue\"] == 0)\n",
    "\n",
    "    print(f'The data contains {number_of_nas} NAs and {number_of_0s} zeros')\n",
    "\n",
    "\n",
    "check_data_completeness(power_demand_at_mw)"
   ]
  },
  {
   "cell_type": "markdown",
   "metadata": {},
   "source": [
    "How complete is e.g. North Macedonian data in comparison?"
   ]
  },
  {
   "cell_type": "code",
   "execution_count": 10,
   "metadata": {},
   "outputs": [],
   "source": [
    "power_demand_nm_mw = get_country_data(power_demand, \"North Macedonia\")\n",
    "check_data_completeness(power_demand_nm_mw)"
   ]
  },
  {
   "cell_type": "markdown",
   "metadata": {},
   "source": [
    "## Exercise 2\n",
    "\n",
    "What is the time resolution of the dataset? There are several ways of finding it, try to find at least two."
   ]
  },
  {
   "cell_type": "code",
   "execution_count": null,
   "metadata": {},
   "outputs": [],
   "source": []
  },
  {
   "cell_type": "markdown",
   "metadata": {},
   "source": [
    "Let's aggregate the data to hourly data. "
   ]
  },
  {
   "cell_type": "code",
   "execution_count": 11,
   "metadata": {
    "ExecuteTime": {
     "end_time": "2020-05-06T11:08:27.399977Z",
     "start_time": "2020-05-06T11:08:26.963562Z"
    }
   },
   "outputs": [],
   "source": [
    "power_demand_at_hourly_mw = power_demand_at_mw.resample('1h').mean()"
   ]
  },
  {
   "cell_type": "code",
   "execution_count": 12,
   "metadata": {},
   "outputs": [],
   "source": [
    "power_demand_at_hourly_mw"
   ]
  },
  {
   "cell_type": "code",
   "execution_count": 13,
   "metadata": {},
   "outputs": [],
   "source": [
    "plot_data(power_demand_at_hourly_mw)\n"
   ]
  },
  {
   "cell_type": "markdown",
   "metadata": {},
   "source": [
    "Let's look into the data more closely and find some regularities..."
   ]
  },
  {
   "cell_type": "code",
   "execution_count": 14,
   "metadata": {},
   "outputs": [],
   "source": [
    "power_demand_at_yearly_mw = power_demand_at_hourly_mw.resample('1y').mean()"
   ]
  },
  {
   "cell_type": "code",
   "execution_count": 15,
   "metadata": {},
   "outputs": [],
   "source": [
    "power_demand_at_yearly_mw"
   ]
  },
  {
   "cell_type": "code",
   "execution_count": 16,
   "metadata": {},
   "outputs": [],
   "source": [
    "plot_data(power_demand_at_yearly_mw)"
   ]
  },
  {
   "cell_type": "markdown",
   "metadata": {},
   "source": [
    "Hm... 2014 and 2020 are incomplete. We should select the correct period therefore..."
   ]
  },
  {
   "cell_type": "code",
   "execution_count": 17,
   "metadata": {},
   "outputs": [],
   "source": [
    "power_demand_at_yearly_full_years_mw = power_demand_at_yearly_mw['2015-01-01':'2019-12-31']\n",
    "\n",
    "plot_data(power_demand_at_yearly_full_years_mw)"
   ]
  },
  {
   "cell_type": "markdown",
   "metadata": {},
   "source": [
    "Hm... hard to tell if there is a trend. Time-series too short. Let's neglect it for the moment."
   ]
  },
  {
   "cell_type": "code",
   "execution_count": 18,
   "metadata": {},
   "outputs": [],
   "source": [
    "power_demand_at_monthly_mw = power_demand_at_hourly_mw.resample('1m').mean()\n",
    "power_demand_at_monthly_mw = power_demand_at_monthly_mw['2015-01-01':'2019-12-31']\n",
    "\n",
    "plot_data(power_demand_at_monthly_mw)"
   ]
  },
  {
   "cell_type": "markdown",
   "metadata": {},
   "source": [
    "hm... seems to be seasonal, right? But let's also select the correct period to show full years only."
   ]
  },
  {
   "cell_type": "markdown",
   "metadata": {},
   "source": [
    "To understand it better, we could simply take the monthly average..."
   ]
  },
  {
   "cell_type": "code",
   "execution_count": 19,
   "metadata": {},
   "outputs": [],
   "source": [
    "power_demand_at_monthly_mean_mw = power_demand_at_monthly_mw.groupby(power_demand_at_monthly_mw.index.month).mean()\n",
    "\n",
    "plot_data(power_demand_at_monthly_mean_mw, \"Month of Year\")"
   ]
  },
  {
   "cell_type": "markdown",
   "metadata": {},
   "source": [
    "Hm... power demand seems to be seasonal.\n"
   ]
  },
  {
   "cell_type": "markdown",
   "metadata": {},
   "source": [
    "## Exercise 3\n",
    "\n",
    "There are at least two other time scales over which data shows seasonality. Can you find them and plot them? Hint: ```power_demand_at_hourly_mw.index.weekday``` may be very useful here."
   ]
  },
  {
   "cell_type": "code",
   "execution_count": null,
   "metadata": {},
   "outputs": [],
   "source": []
  },
  {
   "cell_type": "markdown",
   "metadata": {},
   "source": [
    "Let's use all of what we learnt to predict demand! For the moment, we just use linear regression."
   ]
  },
  {
   "cell_type": "markdown",
   "metadata": {},
   "source": [
    "Our predicted value Y is the hourly demand."
   ]
  },
  {
   "cell_type": "code",
   "execution_count": 20,
   "metadata": {
    "ExecuteTime": {
     "end_time": "2020-05-06T11:14:14.596501Z",
     "start_time": "2020-05-06T11:14:14.593404Z"
    }
   },
   "outputs": [],
   "source": [
    "# Our predicted variable Y is the hourly load\n",
    "\n",
    "power_demand_at_hourly_reduced_mwh = select_period(power_demand_at_hourly_mwh,\n",
    "                                                   2015, 1, 1, 2019, 12, 31)\n",
    "\n",
    "Y = np.array(power_demand_at_hourly_reduced_mwh[\"TotalLoadValue\"]).reshape(-1, 1)"
   ]
  },
  {
   "cell_type": "code",
   "execution_count": null,
   "metadata": {},
   "outputs": [],
   "source": [
    "Y"
   ]
  },
  {
   "cell_type": "markdown",
   "metadata": {},
   "source": [
    "Our predictor variables (or features) are simply months, weekdays, and hours. "
   ]
  },
  {
   "cell_type": "markdown",
   "metadata": {},
   "source": [
    "### Exercise 4\n",
    "\n",
    "How can this be modelled? Who knows what a dummy is? How are they correctly used?"
   ]
  },
  {
   "cell_type": "code",
   "execution_count": null,
   "metadata": {},
   "outputs": [],
   "source": [
    "monthly_dummies = np.array(pd.get_dummies(\n",
    "    power_demand_at_hourly_reduced_mwh.DateTime.dt.month))[:, :11]\n",
    "\n",
    "weekday = np.array(pd.get_dummies(\n",
    "    power_demand_at_hourly_reduced_mwh.DateTime.dt.weekday))[:, :6]\n",
    "\n",
    "hour = np.array(pd.get_dummies(\n",
    "    power_demand_at_hourly_reduced_mwh.DateTime.dt.hour))[:, :23]"
   ]
  },
  {
   "cell_type": "code",
   "execution_count": null,
   "metadata": {},
   "outputs": [],
   "source": [
    "monthly_dummies"
   ]
  },
  {
   "cell_type": "markdown",
   "metadata": {},
   "source": [
    "Joining them all together."
   ]
  },
  {
   "cell_type": "code",
   "execution_count": null,
   "metadata": {
    "ExecuteTime": {
     "end_time": "2020-05-06T11:14:16.118041Z",
     "start_time": "2020-05-06T11:14:16.107512Z"
    }
   },
   "outputs": [],
   "source": [
    "X = np.append(monthly_dummies, weekday, axis=1)\n",
    "X = np.append(X, hour, axis=1)"
   ]
  },
  {
   "cell_type": "code",
   "execution_count": null,
   "metadata": {},
   "outputs": [],
   "source": [
    "X.shape"
   ]
  },
  {
   "cell_type": "markdown",
   "metadata": {},
   "source": [
    "Let's put this into a linear model."
   ]
  },
  {
   "cell_type": "code",
   "execution_count": null,
   "metadata": {
    "ExecuteTime": {
     "end_time": "2020-05-06T11:14:20.319935Z",
     "start_time": "2020-05-06T11:14:20.307397Z"
    }
   },
   "outputs": [],
   "source": [
    "# regr = linear_model.LinearRegression(fit_intercept = False)\n",
    "regr = linear_model.LinearRegression()\n",
    "\n",
    "# Train the model using the training sets\n",
    "regr.fit(X, Y)\n",
    "\n",
    "# The coefficients\n",
    "print('Coefficients: \\n', regr.coef_)\n"
   ]
  },
  {
   "cell_type": "markdown",
   "metadata": {},
   "source": [
    "What does the intercept of the regression tell us?"
   ]
  },
  {
   "cell_type": "code",
   "execution_count": null,
   "metadata": {},
   "outputs": [],
   "source": [
    "regr.intercept_"
   ]
  },
  {
   "cell_type": "markdown",
   "metadata": {},
   "source": [
    "Let's predict with the model on the training data..."
   ]
  },
  {
   "cell_type": "code",
   "execution_count": null,
   "metadata": {
    "ExecuteTime": {
     "end_time": "2020-05-06T11:14:22.632443Z",
     "start_time": "2020-05-06T11:14:22.628494Z"
    }
   },
   "outputs": [],
   "source": [
    "pred = regr.predict(X)"
   ]
  },
  {
   "cell_type": "markdown",
   "metadata": {},
   "source": [
    "How does it look like?"
   ]
  },
  {
   "cell_type": "code",
   "execution_count": null,
   "metadata": {
    "ExecuteTime": {
     "end_time": "2020-05-06T11:14:25.661327Z",
     "start_time": "2020-05-06T11:14:25.486522Z"
    }
   },
   "outputs": [],
   "source": [
    "plt.plot(Y[1000:1100, :])\n",
    "plt.plot(pred[1000:1100, :], alpha=0.7)"
   ]
  },
  {
   "cell_type": "markdown",
   "metadata": {},
   "source": [
    "Pretty cool for such a simple model. How does it look over the whole range?"
   ]
  },
  {
   "cell_type": "code",
   "execution_count": null,
   "metadata": {},
   "outputs": [],
   "source": [
    "plt.plot(Y)\n",
    "plt.plot(pred, alpha=0.5)"
   ]
  },
  {
   "cell_type": "markdown",
   "metadata": {},
   "source": [
    "And R^2?"
   ]
  },
  {
   "cell_type": "code",
   "execution_count": null,
   "metadata": {},
   "outputs": [],
   "source": [
    "r2_score(Y, pred)"
   ]
  },
  {
   "cell_type": "markdown",
   "metadata": {},
   "source": [
    "Wowh. This is pretty high for such a simple model. It means we have rather regular data."
   ]
  },
  {
   "cell_type": "markdown",
   "metadata": {},
   "source": [
    "## Exercise 5\n",
    "\n",
    "Before you do the exercise, let's vote. What expectation do you have when comparing the mean of Y and of pred?\n",
    "\n",
    "Now, calculate the mean of the two values."
   ]
  },
  {
   "cell_type": "code",
   "execution_count": null,
   "metadata": {},
   "outputs": [],
   "source": []
  },
  {
   "cell_type": "markdown",
   "metadata": {},
   "source": [
    "## Exercise 6\n",
    "\n",
    "Now let's work on the results of the regression. What do coefficients tell us? \n",
    "\n",
    "Now plot the dummies for months, weekdays and hours seperately.\n"
   ]
  },
  {
   "cell_type": "code",
   "execution_count": null,
   "metadata": {},
   "outputs": [],
   "source": [
    "coefs = np.array(regr.coef_).T\n",
    "\n",
    "# months"
   ]
  },
  {
   "cell_type": "code",
   "execution_count": null,
   "metadata": {},
   "outputs": [],
   "source": [
    "# weekdays"
   ]
  },
  {
   "cell_type": "code",
   "execution_count": null,
   "metadata": {},
   "outputs": [],
   "source": [
    "# hours"
   ]
  },
  {
   "cell_type": "markdown",
   "metadata": {},
   "source": [
    "## Exercise 7\n",
    "\n",
    "How do residuals look like now, i.e. the difference between actual value and prediction? \n",
    "\n",
    "Plot the residuals."
   ]
  },
  {
   "cell_type": "code",
   "execution_count": null,
   "metadata": {
    "ExecuteTime": {
     "end_time": "2020-05-06T11:17:26.318943Z",
     "start_time": "2020-05-06T11:17:26.146591Z"
    }
   },
   "outputs": [],
   "source": []
  }
 ],
 "metadata": {
  "kernelspec": {
   "display_name": "Python [conda env:scientific-computing]",
   "language": "python",
   "name": "conda-env-scientific-computing-py"
  },
  "language_info": {
   "codemirror_mode": {
    "name": "ipython",
    "version": 3
   },
   "file_extension": ".py",
   "mimetype": "text/x-python",
   "name": "python",
   "nbconvert_exporter": "python",
   "pygments_lexer": "ipython3",
   "version": "3.7.6"
  }
 },
 "nbformat": 4,
 "nbformat_minor": 2
}
