{
 "cells": [
  {
   "cell_type": "markdown",
   "metadata": {},
   "source": [
    "# Review test\n"
   ]
  },
  {
   "cell_type": "markdown",
   "metadata": {},
   "source": [
    "## Review exercise 1"
   ]
  },
  {
   "cell_type": "markdown",
   "metadata": {},
   "source": [
    "menti.com 52 00 21"
   ]
  },
  {
   "cell_type": "markdown",
   "metadata": {},
   "source": [
    "## Review exercise 2"
   ]
  },
  {
   "cell_type": "markdown",
   "metadata": {},
   "source": [
    "menti.com 74 95 17"
   ]
  },
  {
   "cell_type": "markdown",
   "metadata": {},
   "source": [
    "## Review exercise 3"
   ]
  },
  {
   "cell_type": "code",
   "execution_count": 83,
   "metadata": {},
   "outputs": [],
   "source": [
    "def squared(x):\n",
    "    return x ** 2"
   ]
  },
  {
   "cell_type": "markdown",
   "metadata": {},
   "source": [
    "Write a function \n",
    "```python\n",
    "derivative(x, h, function)\n",
    "```\n",
    "which calculates the first numerical derivative of an arbitrary function. Use the formula $\\frac{function(x + h) -function(x - h)}{2h}$. Observe: in Python you can pass a function as an argument of another function!\n",
    "\n",
    "\n",
    "Test it on x = 4, h = 0.0001 and the function \n",
    "```\n",
    "squared\n",
    "```\n",
    "defined above."
   ]
  },
  {
   "cell_type": "markdown",
   "metadata": {},
   "source": [
    "# Lecture 3 - continuing the introduction to Python"
   ]
  },
  {
   "cell_type": "markdown",
   "metadata": {},
   "source": [
    "## Data types in Python"
   ]
  },
  {
   "cell_type": "code",
   "execution_count": null,
   "metadata": {},
   "outputs": [],
   "source": [
    "type(1)"
   ]
  },
  {
   "cell_type": "code",
   "execution_count": null,
   "metadata": {},
   "outputs": [],
   "source": [
    "type(1.1)"
   ]
  },
  {
   "cell_type": "code",
   "execution_count": 20,
   "metadata": {},
   "outputs": [
    {
     "data": {
      "text/plain": [
       "complex"
      ]
     },
     "execution_count": 20,
     "metadata": {},
     "output_type": "execute_result"
    }
   ],
   "source": [
    "type(1 + 2j)"
   ]
  },
  {
   "cell_type": "code",
   "execution_count": null,
   "metadata": {},
   "outputs": [],
   "source": [
    "type(True)"
   ]
  },
  {
   "cell_type": "code",
   "execution_count": null,
   "metadata": {},
   "outputs": [],
   "source": [
    "type(\"Hello World\")"
   ]
  },
  {
   "cell_type": "code",
   "execution_count": null,
   "metadata": {},
   "outputs": [],
   "source": [
    "a = 1\n",
    "type(a)"
   ]
  },
  {
   "cell_type": "code",
   "execution_count": null,
   "metadata": {},
   "outputs": [],
   "source": [
    "b = 1.1\n",
    "type(b)"
   ]
  },
  {
   "cell_type": "code",
   "execution_count": null,
   "metadata": {},
   "outputs": [],
   "source": [
    "c = a + b"
   ]
  },
  {
   "cell_type": "markdown",
   "metadata": {},
   "source": [
    "What is the type of c?"
   ]
  },
  {
   "cell_type": "code",
   "execution_count": null,
   "metadata": {},
   "outputs": [],
   "source": [
    "type(c)"
   ]
  },
  {
   "cell_type": "code",
   "execution_count": null,
   "metadata": {},
   "outputs": [],
   "source": [
    "d = 2\n",
    "type(d)"
   ]
  },
  {
   "cell_type": "code",
   "execution_count": 15,
   "metadata": {},
   "outputs": [],
   "source": [
    "e = a + d"
   ]
  },
  {
   "cell_type": "markdown",
   "metadata": {},
   "source": [
    "What is the type of e?"
   ]
  },
  {
   "cell_type": "code",
   "execution_count": 16,
   "metadata": {},
   "outputs": [
    {
     "data": {
      "text/plain": [
       "int"
      ]
     },
     "execution_count": 16,
     "metadata": {},
     "output_type": "execute_result"
    }
   ],
   "source": [
    "type(e)"
   ]
  },
  {
   "cell_type": "code",
   "execution_count": 17,
   "metadata": {},
   "outputs": [],
   "source": [
    "f = a / d"
   ]
  },
  {
   "cell_type": "markdown",
   "metadata": {},
   "source": [
    "What is the type of f?"
   ]
  },
  {
   "cell_type": "code",
   "execution_count": 19,
   "metadata": {},
   "outputs": [
    {
     "data": {
      "text/plain": [
       "float"
      ]
     },
     "execution_count": 19,
     "metadata": {},
     "output_type": "execute_result"
    }
   ],
   "source": [
    "type(f)"
   ]
  },
  {
   "cell_type": "markdown",
   "metadata": {},
   "source": [
    "### String operations"
   ]
  },
  {
   "cell_type": "markdown",
   "metadata": {},
   "source": [
    "String is text. A new string is simply started by enclosing text in \""
   ]
  },
  {
   "cell_type": "code",
   "execution_count": 5,
   "metadata": {},
   "outputs": [
    {
     "data": {
      "text/plain": [
       "'This is a string'"
      ]
     },
     "execution_count": 5,
     "metadata": {},
     "output_type": "execute_result"
    }
   ],
   "source": [
    "'This is a string'"
   ]
  },
  {
   "cell_type": "code",
   "execution_count": 3,
   "metadata": {},
   "outputs": [
    {
     "data": {
      "text/plain": [
       "'The value of x is 7'"
      ]
     },
     "execution_count": 3,
     "metadata": {},
     "output_type": "execute_result"
    }
   ],
   "source": [
    "x = 7\n",
    "\n",
    "f'The value of x is {x}'"
   ]
  },
  {
   "cell_type": "code",
   "execution_count": 9,
   "metadata": {},
   "outputs": [
    {
     "data": {
      "text/plain": [
       "'The value of y is 7'"
      ]
     },
     "execution_count": 9,
     "metadata": {},
     "output_type": "execute_result"
    }
   ],
   "source": [
    "import math\n",
    "\n",
    "y = 6.589309493\n",
    "\n",
    "f'The value of y is {round(y)}'"
   ]
  },
  {
   "cell_type": "code",
   "execution_count": 11,
   "metadata": {},
   "outputs": [
    {
     "data": {
      "text/plain": [
       "'line 1line2line3'"
      ]
     },
     "execution_count": 11,
     "metadata": {},
     "output_type": "execute_result"
    }
   ],
   "source": [
    "a_lot_of_text = (\n",
    "    f'line1'\n",
    "    f'line2'\n",
    "    f'line3')\n",
    "\n",
    "a_lot_of_text"
   ]
  },
  {
   "cell_type": "markdown",
   "metadata": {},
   "source": [
    "But..."
   ]
  },
  {
   "cell_type": "code",
   "execution_count": 12,
   "metadata": {},
   "outputs": [
    {
     "data": {
      "text/plain": [
       "'\\n    line 1\\n    line2\\n    line3'"
      ]
     },
     "execution_count": 12,
     "metadata": {},
     "output_type": "execute_result"
    }
   ],
   "source": [
    "a_lot_of_text = \"\"\"\n",
    "    line 1\n",
    "    line2\n",
    "    line3\"\"\"\n",
    "\n",
    "a_lot_of_text"
   ]
  },
  {
   "cell_type": "markdown",
   "metadata": {},
   "source": [
    "Why is there a \\n?"
   ]
  },
  {
   "cell_type": "markdown",
   "metadata": {},
   "source": [
    "#### Exercise 1\n",
    "\n",
    "Write code which shows the following text 'PI is 3.14'. Hint: math.pi returns pi."
   ]
  },
  {
   "cell_type": "markdown",
   "metadata": {},
   "source": [
    "## Some basic data structures in Python\n",
    "\n",
    "### Tuples\n"
   ]
  },
  {
   "cell_type": "code",
   "execution_count": 26,
   "metadata": {},
   "outputs": [],
   "source": [
    "(a, b) = (1, 2)"
   ]
  },
  {
   "cell_type": "code",
   "execution_count": null,
   "metadata": {},
   "outputs": [],
   "source": [
    "a"
   ]
  },
  {
   "cell_type": "code",
   "execution_count": null,
   "metadata": {},
   "outputs": [],
   "source": [
    "b"
   ]
  },
  {
   "cell_type": "markdown",
   "metadata": {},
   "source": [
    "#### Functions and tuples\n"
   ]
  },
  {
   "cell_type": "code",
   "execution_count": 24,
   "metadata": {},
   "outputs": [],
   "source": [
    "import math\n",
    "\n",
    "def calculate_growth_doubling_time(value_t1, value_t2, time_diff):\n",
    "    \n",
    "    growth_rate = (value_t2/value_t1) ** (1 / time_diff) - 1\n",
    "    \n",
    "    doubling_time = math.log(2) / math.log(growth_rate + 1)\n",
    "    \n",
    "    return (growth_rate, doubling_time)"
   ]
  },
  {
   "cell_type": "code",
   "execution_count": 31,
   "metadata": {},
   "outputs": [
    {
     "name": "stdout",
     "output_type": "stream",
     "text": [
      "0.19999999999999996\n",
      "3.8017840169239308\n"
     ]
    }
   ],
   "source": [
    "(growth_rate, doubling_time) = calculate_growth_doubling_time(1, 1.2, 1)\n",
    "\n",
    "print(growth_rate)\n",
    "print(doubling_time)"
   ]
  },
  {
   "cell_type": "markdown",
   "metadata": {},
   "source": [
    "#### Exercise 2\n",
    "\n",
    "Write a function that calculates the growth_rate, the doubling time, and the relative growth_rate given by $\\frac{value_{t2} - value_{t1}}{value_{t1}}$. Use the upper function calculate_growth_doubling_time for that purpose. Return all three values. The function should be called \n",
    "\n",
    "```python\n",
    "growth_parameters(value_t1, value_t2, time_diff)\n",
    "```"
   ]
  },
  {
   "cell_type": "markdown",
   "metadata": {},
   "source": [
    "### Lists\n"
   ]
  },
  {
   "cell_type": "code",
   "execution_count": 16,
   "metadata": {},
   "outputs": [
    {
     "data": {
      "text/plain": [
       "[1, 2, 3]"
      ]
     },
     "execution_count": 16,
     "metadata": {},
     "output_type": "execute_result"
    }
   ],
   "source": [
    "[1, 2, 3]"
   ]
  },
  {
   "cell_type": "code",
   "execution_count": 17,
   "metadata": {},
   "outputs": [
    {
     "data": {
      "text/plain": [
       "2"
      ]
     },
     "execution_count": 17,
     "metadata": {},
     "output_type": "execute_result"
    }
   ],
   "source": [
    "[1, 2, 3][1]"
   ]
  },
  {
   "cell_type": "markdown",
   "metadata": {},
   "source": [
    "Important: different to R, an index in Python starts with 0, not with 1. So the first element of a list is 0!"
   ]
  },
  {
   "cell_type": "code",
   "execution_count": 24,
   "metadata": {},
   "outputs": [
    {
     "data": {
      "text/plain": [
       "1"
      ]
     },
     "execution_count": 24,
     "metadata": {},
     "output_type": "execute_result"
    }
   ],
   "source": [
    "[1, 2, 3][0]"
   ]
  },
  {
   "cell_type": "markdown",
   "metadata": {},
   "source": [
    "What will happen here?"
   ]
  },
  {
   "cell_type": "code",
   "execution_count": 25,
   "metadata": {},
   "outputs": [
    {
     "ename": "IndexError",
     "evalue": "list index out of range",
     "output_type": "error",
     "traceback": [
      "\u001b[1;31m---------------------------------------------------------------------------\u001b[0m",
      "\u001b[1;31mIndexError\u001b[0m                                Traceback (most recent call last)",
      "\u001b[1;32m<ipython-input-25-1365b2bd3fcc>\u001b[0m in \u001b[0;36m<module>\u001b[1;34m\u001b[0m\n\u001b[1;32m----> 1\u001b[1;33m \u001b[1;33m[\u001b[0m\u001b[1;36m1\u001b[0m\u001b[1;33m,\u001b[0m \u001b[1;36m2\u001b[0m\u001b[1;33m,\u001b[0m \u001b[1;36m3\u001b[0m\u001b[1;33m]\u001b[0m\u001b[1;33m[\u001b[0m\u001b[1;36m3\u001b[0m\u001b[1;33m]\u001b[0m\u001b[1;33m\u001b[0m\u001b[1;33m\u001b[0m\u001b[0m\n\u001b[0m",
      "\u001b[1;31mIndexError\u001b[0m: list index out of range"
     ]
    }
   ],
   "source": [
    "[1, 2, 3][3]"
   ]
  },
  {
   "cell_type": "code",
   "execution_count": 18,
   "metadata": {},
   "outputs": [],
   "source": [
    "b = [1, 2, 3]"
   ]
  },
  {
   "cell_type": "code",
   "execution_count": 19,
   "metadata": {},
   "outputs": [
    {
     "data": {
      "text/plain": [
       "[1, 2, 3]"
      ]
     },
     "execution_count": 19,
     "metadata": {},
     "output_type": "execute_result"
    }
   ],
   "source": [
    "b"
   ]
  },
  {
   "cell_type": "code",
   "execution_count": 20,
   "metadata": {},
   "outputs": [
    {
     "data": {
      "text/plain": [
       "1"
      ]
     },
     "execution_count": 20,
     "metadata": {},
     "output_type": "execute_result"
    }
   ],
   "source": [
    "b[0]"
   ]
  },
  {
   "cell_type": "code",
   "execution_count": 21,
   "metadata": {},
   "outputs": [
    {
     "data": {
      "text/plain": [
       "[1, 2]"
      ]
     },
     "execution_count": 21,
     "metadata": {},
     "output_type": "execute_result"
    }
   ],
   "source": [
    "b[0:2]"
   ]
  },
  {
   "cell_type": "code",
   "execution_count": 22,
   "metadata": {},
   "outputs": [],
   "source": [
    "c = [1, 2, 3, 4, 5, 6]"
   ]
  },
  {
   "cell_type": "code",
   "execution_count": 23,
   "metadata": {},
   "outputs": [
    {
     "data": {
      "text/plain": [
       "[2, 3, 4, 5]"
      ]
     },
     "execution_count": 23,
     "metadata": {},
     "output_type": "execute_result"
    }
   ],
   "source": [
    "c[1:5]"
   ]
  },
  {
   "cell_type": "code",
   "execution_count": 29,
   "metadata": {},
   "outputs": [
    {
     "data": {
      "text/plain": [
       "6"
      ]
     },
     "execution_count": 29,
     "metadata": {},
     "output_type": "execute_result"
    }
   ],
   "source": [
    "len(c)"
   ]
  },
  {
   "cell_type": "markdown",
   "metadata": {},
   "source": [
    "#### Exercise 3\n",
    "\n",
    "Write a function named \n",
    "```python\n",
    "list_info(l)\n",
    "```\n",
    "that takes a list and returns, in a tuple, the length of the list, the first element and the last element. Test the code with the list\n",
    "\n",
    "```python\n",
    "[7, 14, 21, 43]\n",
    "```\n",
    "\n"
   ]
  },
  {
   "cell_type": "markdown",
   "metadata": {},
   "source": [
    "#### Operators on lists"
   ]
  },
  {
   "cell_type": "code",
   "execution_count": 80,
   "metadata": {},
   "outputs": [
    {
     "data": {
      "text/plain": [
       "[1, 2, 1, 2]"
      ]
     },
     "execution_count": 80,
     "metadata": {},
     "output_type": "execute_result"
    }
   ],
   "source": [
    "[1, 2] * 2"
   ]
  },
  {
   "cell_type": "code",
   "execution_count": 82,
   "metadata": {},
   "outputs": [
    {
     "data": {
      "text/plain": [
       "[1, 2, 2]"
      ]
     },
     "execution_count": 82,
     "metadata": {},
     "output_type": "execute_result"
    }
   ],
   "source": [
    "[1, 2] + [2]"
   ]
  },
  {
   "cell_type": "code",
   "execution_count": 85,
   "metadata": {},
   "outputs": [
    {
     "ename": "TypeError",
     "evalue": "can only concatenate list (not \"int\") to list",
     "output_type": "error",
     "traceback": [
      "\u001b[1;31m---------------------------------------------------------------------------\u001b[0m",
      "\u001b[1;31mTypeError\u001b[0m                                 Traceback (most recent call last)",
      "\u001b[1;32m<ipython-input-85-33075c4f01e1>\u001b[0m in \u001b[0;36m<module>\u001b[1;34m\u001b[0m\n\u001b[1;32m----> 1\u001b[1;33m \u001b[1;33m[\u001b[0m\u001b[1;36m1\u001b[0m\u001b[1;33m,\u001b[0m \u001b[1;36m2\u001b[0m\u001b[1;33m]\u001b[0m \u001b[1;33m+\u001b[0m \u001b[1;36m2\u001b[0m\u001b[1;33m\u001b[0m\u001b[1;33m\u001b[0m\u001b[0m\n\u001b[0m",
      "\u001b[1;31mTypeError\u001b[0m: can only concatenate list (not \"int\") to list"
     ]
    }
   ],
   "source": [
    "[1, 2] + 2"
   ]
  },
  {
   "cell_type": "markdown",
   "metadata": {},
   "source": [
    "## Control structures: loops\n",
    "\n",
    "Loops allow to repeat things. We will see that they become obsolete in many cases, when working with the scientific packages in Python (such as numpy), but we still introduce them."
   ]
  },
  {
   "cell_type": "code",
   "execution_count": 36,
   "metadata": {},
   "outputs": [
    {
     "name": "stdout",
     "output_type": "stream",
     "text": [
      "0\n",
      "1\n",
      "2\n"
     ]
    }
   ],
   "source": [
    "for x in range(3):\n",
    "    print(x)"
   ]
  },
  {
   "cell_type": "code",
   "execution_count": 38,
   "metadata": {},
   "outputs": [
    {
     "name": "stdout",
     "output_type": "stream",
     "text": [
      "17\n",
      "18\n"
     ]
    }
   ],
   "source": [
    "for x in range(17, 19):\n",
    "    print(x)"
   ]
  },
  {
   "cell_type": "markdown",
   "metadata": {},
   "source": [
    "What will happen here?"
   ]
  },
  {
   "cell_type": "code",
   "execution_count": 42,
   "metadata": {},
   "outputs": [],
   "source": [
    "for x in range(19, 17):\n",
    "    print(x)"
   ]
  },
  {
   "cell_type": "code",
   "execution_count": 44,
   "metadata": {},
   "outputs": [
    {
     "name": "stdout",
     "output_type": "stream",
     "text": [
      "1\n",
      "2\n",
      "3\n"
     ]
    }
   ],
   "source": [
    "l = [1, 2, 3]\n",
    "\n",
    "for x in l:\n",
    "    print(x)"
   ]
  },
  {
   "cell_type": "code",
   "execution_count": 45,
   "metadata": {},
   "outputs": [
    {
     "name": "stdout",
     "output_type": "stream",
     "text": [
      "1\n",
      "2\n",
      "3\n"
     ]
    }
   ],
   "source": [
    "for x in range(0, len(l)):\n",
    "    print(l[x])"
   ]
  },
  {
   "cell_type": "markdown",
   "metadata": {},
   "source": [
    "#### This may become important - if you do not understand it now, don't worry.\n",
    "\n",
    "Lists are passed by reference - whatever you do to a list in function, will also affect the list outside of the function. Watch!"
   ]
  },
  {
   "cell_type": "code",
   "execution_count": 63,
   "metadata": {},
   "outputs": [
    {
     "name": "stdout",
     "output_type": "stream",
     "text": [
      "[43, 2, 3]\n",
      "[43, 2, 3]\n",
      "[1, 2, 3]\n",
      "[43, 2, 3]\n"
     ]
    }
   ],
   "source": [
    "def change_list(l):\n",
    "    \n",
    "    l1 = l\n",
    "    \n",
    "    l1[0] = 43\n",
    "    \n",
    "    return l1\n",
    "    \n",
    "    \n",
    "def do_not_change_list(l):\n",
    "    \n",
    "    l1 = list.copy(l)\n",
    "    \n",
    "    l1[0] = 43\n",
    "    \n",
    "    return l1\n",
    "\n",
    "l = [1, 2, 3]\n",
    "result = change_list(l)\n",
    "print(l)\n",
    "print(result)\n",
    "\n",
    "l = [1, 2, 3]\n",
    "result = do_not_change_list(l)\n",
    "print(l)\n",
    "print(result)\n",
    "\n",
    "\n",
    "\n",
    "\n"
   ]
  },
  {
   "cell_type": "markdown",
   "metadata": {},
   "source": [
    "### List comprehensions\n",
    "\n",
    "To work with lists and for loops is not very Pythonian. In many cases list comprehensions are much more convenient:"
   ]
  },
  {
   "cell_type": "code",
   "execution_count": 75,
   "metadata": {},
   "outputs": [
    {
     "data": {
      "text/plain": [
       "[0.0, 1.0, 2.0]"
      ]
     },
     "execution_count": 75,
     "metadata": {},
     "output_type": "execute_result"
    }
   ],
   "source": [
    "l = [1, 10, 100]\n",
    "\n",
    "# Take log 10 of all list elements\n",
    "\n",
    "[math.log(i, 10) for i in l]"
   ]
  },
  {
   "cell_type": "markdown",
   "metadata": {},
   "source": [
    "#### Exercise 4\n",
    "\n",
    "Write a function \n",
    "\n",
    "```python\n",
    "log10_list(l)\n",
    "```\n",
    "\n",
    "which calculates the logarithmus with basis 10 of all elements in that list and returns the resulting list. Test it on the list\n",
    "\n",
    "```python\n",
    "l = [1, 10, 100, 1000]\n",
    "```\n",
    "\n",
    "Print \n",
    "\n",
    "```python\n",
    "l\n",
    "```\n",
    "\n",
    "before and after calling your function."
   ]
  },
  {
   "cell_type": "markdown",
   "metadata": {},
   "source": [
    "## Reading data\n",
    "\n",
    "We will quickly read data from disk. This is just to make things more interesting. Do not worry about the details now."
   ]
  },
  {
   "cell_type": "code",
   "execution_count": 27,
   "metadata": {},
   "outputs": [
    {
     "data": {
      "text/plain": [
       "[['Date', 'Infected'],\n",
       " ['2020-03-04T17:00:00Z', '29'],\n",
       " ['2020-03-05T14:00:00Z', '41'],\n",
       " ['2020-03-06T14:00:00Z', '55'],\n",
       " ['2020-03-07T14:00:00Z', '79'],\n",
       " ['2020-03-08T10:45:00Z', '99'],\n",
       " ['2020-03-09T14:00:00Z', '131'],\n",
       " ['2020-03-10T14:00:00Z', '182'],\n",
       " ['2020-03-11T14:00:00Z', '246'],\n",
       " ['2020-03-12T14:00:00Z', '361'],\n",
       " ['2020-03-13T14:00:00Z', '504'],\n",
       " ['2020-03-14T14:00:00Z', '655'],\n",
       " ['2020-03-15T14:00:00Z', '860'],\n",
       " ['2020-03-16T14:00:00Z', '1016'],\n",
       " ['2020-03-17T14:00:00Z', '1332'],\n",
       " ['2020-03-18T14:00:00Z', '1646'],\n",
       " ['2020-03-19T13:30:00Z', '2013'],\n",
       " ['2020-03-20T14:00:00Z', '2388'],\n",
       " ['2020-03-21T14:00:00Z', '2814'],\n",
       " ['2020-03-22T14:00:00Z', '3244'],\n",
       " ['2020-03-23T14:00:00Z', '3924'],\n",
       " ['2020-03-24T14:00:00Z', '4876'],\n",
       " ['2020-03-25T14:00:00Z', '5560'],\n",
       " ['2020-03-26T14:00:00Z', '6398'],\n",
       " ['2020-03-27T14:00:00Z', '7399'],\n",
       " ['2020-03-28T16:00:00Z', '8105'],\n",
       " ['2020-03-29T08:00:00Z', '8346']]"
      ]
     },
     "execution_count": 27,
     "metadata": {},
     "output_type": "execute_result"
    }
   ],
   "source": [
    "import csv\n",
    "\n",
    "with open('austria_covid_19_data.csv', 'r') as read_obj:\n",
    "    # pass the file object to reader() to get the reader object\n",
    "    csv_reader = csv.reader(read_obj)\n",
    "    # Pass reader object to list() to get a list of lists\n",
    "    list_of_rows = list(csv_reader)\n",
    "    \n",
    "    \n",
    "list_of_rows"
   ]
  },
  {
   "cell_type": "code",
   "execution_count": 28,
   "metadata": {},
   "outputs": [
    {
     "data": {
      "text/plain": [
       "['Infected',\n",
       " '29',\n",
       " '41',\n",
       " '55',\n",
       " '79',\n",
       " '99',\n",
       " '131',\n",
       " '182',\n",
       " '246',\n",
       " '361',\n",
       " '504',\n",
       " '655',\n",
       " '860',\n",
       " '1016',\n",
       " '1332',\n",
       " '1646',\n",
       " '2013',\n",
       " '2388',\n",
       " '2814',\n",
       " '3244',\n",
       " '3924',\n",
       " '4876',\n",
       " '5560',\n",
       " '6398',\n",
       " '7399',\n",
       " '8105',\n",
       " '8346']"
      ]
     },
     "execution_count": 28,
     "metadata": {},
     "output_type": "execute_result"
    }
   ],
   "source": [
    "### get second column\n",
    "infected_cases = [i[1] for i in list_of_rows]\n",
    "\n",
    "infected_cases"
   ]
  },
  {
   "cell_type": "code",
   "execution_count": 84,
   "metadata": {},
   "outputs": [
    {
     "data": {
      "text/plain": [
       "[41,\n",
       " 55,\n",
       " 79,\n",
       " 99,\n",
       " 131,\n",
       " 182,\n",
       " 246,\n",
       " 361,\n",
       " 504,\n",
       " 655,\n",
       " 860,\n",
       " 1016,\n",
       " 1332,\n",
       " 1646,\n",
       " 2013,\n",
       " 2388,\n",
       " 2814,\n",
       " 3244,\n",
       " 3924,\n",
       " 4876,\n",
       " 5560,\n",
       " 6398,\n",
       " 7399,\n",
       " 8105,\n",
       " 8346]"
      ]
     },
     "execution_count": 84,
     "metadata": {},
     "output_type": "execute_result"
    }
   ],
   "source": [
    "### remove first line, as it contains header\n",
    "infected_cases = infected_cases[1 : len(infected_cases)]\n",
    "\n",
    "infected_cases"
   ]
  },
  {
   "cell_type": "code",
   "execution_count": 30,
   "metadata": {},
   "outputs": [
    {
     "data": {
      "text/plain": [
       "[29,\n",
       " 41,\n",
       " 55,\n",
       " 79,\n",
       " 99,\n",
       " 131,\n",
       " 182,\n",
       " 246,\n",
       " 361,\n",
       " 504,\n",
       " 655,\n",
       " 860,\n",
       " 1016,\n",
       " 1332,\n",
       " 1646,\n",
       " 2013,\n",
       " 2388,\n",
       " 2814,\n",
       " 3244,\n",
       " 3924,\n",
       " 4876,\n",
       " 5560,\n",
       " 6398,\n",
       " 7399,\n",
       " 8105,\n",
       " 8346]"
      ]
     },
     "execution_count": 30,
     "metadata": {},
     "output_type": "execute_result"
    }
   ],
   "source": [
    "### convert to integer, as it is string\n",
    "infected_cases = [int(i) for i in infected_cases]\n",
    "\n",
    "infected_cases"
   ]
  },
  {
   "cell_type": "markdown",
   "metadata": {},
   "source": [
    "## Plotting data with matplotlib"
   ]
  },
  {
   "cell_type": "code",
   "execution_count": 66,
   "metadata": {},
   "outputs": [
    {
     "data": {
      "image/png": "[encoded data removed]",
      "text/plain": [
       "<Figure size 432x288 with 1 Axes>"
      ]
     },
     "metadata": {
      "needs_background": "light"
     },
     "output_type": "display_data"
    }
   ],
   "source": [
    "import matplotlib.pyplot as plt\n",
    "import math\n",
    "\n",
    "plt.plot(infected_cases, label = 'x')\n",
    "plt.plot([math.log(i, 10) for i in infected_cases], label = 'log(x)')\n",
    "\n",
    "plt.xlabel('Time')\n",
    "plt.ylabel('Infections')\n",
    "\n",
    "plt.title('Infections')\n",
    "\n",
    "plt.legend()\n",
    "\n",
    "plt.show()\n"
   ]
  },
  {
   "cell_type": "code",
   "execution_count": 67,
   "metadata": {},
   "outputs": [
    {
     "data": {
      "image/png": "[encoded data removed]",
      "text/plain": [
       "<Figure size 432x288 with 1 Axes>"
      ]
     },
     "metadata": {
      "needs_background": "light"
     },
     "output_type": "display_data"
    }
   ],
   "source": [
    "import matplotlib.pyplot as plt\n",
    "import math\n",
    "\n",
    "x = list(range(1, len(infected_cases) + 1))\n",
    "\n",
    "plt.plot([math.log(i, 10) for i in infected_cases], label = 'log(x)')\n",
    "\n",
    "plt.xlabel('Time')\n",
    "plt.ylabel('Infections')\n",
    "\n",
    "plt.title('Log(infections)')\n",
    "\n",
    "plt.legend()\n",
    "\n",
    "plt.show()"
   ]
  },
  {
   "cell_type": "markdown",
   "metadata": {},
   "source": [
    "#### Exercise 5\n",
    "\n",
    "Calculate the daily growth rate for all time steps and the doubling time for all time steps and plot both in one extra figure, i.e. one figure showing the growth rate, the other one showing the doubling time. For that purpose you can use the function\n",
    "\n",
    "```\n",
    "calculate_growth_doubling_time(value_t1, value_t2, time_diff)\n",
    "```\n",
    "\n",
    "defined above.\n"
   ]
  },
  {
   "cell_type": "markdown",
   "metadata": {},
   "source": [
    "#### Exercise 6\n",
    "\n",
    "Write a function which calculates the growth rate and doubling time for all time steps, i.e. similar to the code in Exercise 5. The function is defined as\n",
    "\n",
    "```\n",
    "growth_rate_doubling_time(l, interval)\n",
    "```\n",
    "\n",
    "Interval is the time between the timesteps. I.e. if interval is 7, the weekly growth rate should be calculated. \n",
    "\n"
   ]
  }
 ],
 "metadata": {
  "kernelspec": {
   "display_name": "Python 3",
   "language": "python",
   "name": "python3"
  },
  "language_info": {
   "codemirror_mode": {
    "name": "ipython",
    "version": 3
   },
   "file_extension": ".py",
   "mimetype": "text/x-python",
   "name": "python",
   "nbconvert_exporter": "python",
   "pygments_lexer": "ipython3",
   "version": "3.7.6"
  }
 },
 "nbformat": 4,
 "nbformat_minor": 4
}
