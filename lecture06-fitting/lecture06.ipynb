{
 "cells": [
  {
   "cell_type": "code",
   "execution_count": 1,
   "metadata": {
    "ExecuteTime": {
     "end_time": "2020-05-06T05:26:24.613205Z",
     "start_time": "2020-05-06T05:18:30.754746Z"
    }
   },
   "outputs": [],
   "source": [
    "import matplotlib.pyplot as plt\n",
    "import pandas as pd\n",
    "import os\n",
    "import numpy as np\n",
    "import datetime\n",
    "import glob\n",
    "\n",
    "import numpy as np\n",
    "from sklearn import datasets, linear_model\n",
    "from sklearn.metrics import mean_squared_error, r2_score\n",
    "\n",
    "DOWNLOAD_DIR = './data/'"
   ]
  },
  {
   "cell_type": "code",
   "execution_count": 8,
   "metadata": {
    "ExecuteTime": {
     "end_time": "2020-05-06T10:25:02.673744Z",
     "start_time": "2020-05-06T10:18:45.858189Z"
    }
   },
   "outputs": [
    {
     "name": "stdout",
     "output_type": "stream",
     "text": [
      "Loading ./data\\2014_12_ActualTotalLoad.csv\n",
      "Loading ./data\\2015_10_ActualTotalLoad.csv\n",
      "Loading ./data\\2015_11_ActualTotalLoad.csv\n",
      "Loading ./data\\2015_12_ActualTotalLoad.csv\n",
      "Loading ./data\\2015_2_ActualTotalLoad.csv\n",
      "Loading ./data\\2015_3_ActualTotalLoad.csv\n",
      "Loading ./data\\2015_1_ActualTotalLoad.csv\n",
      "Loading ./data\\2015_4_ActualTotalLoad.csv\n",
      "Loading ./data\\2015_5_ActualTotalLoad.csv\n",
      "Loading ./data\\2015_6_ActualTotalLoad.csv\n",
      "Loading ./data\\2015_7_ActualTotalLoad.csv\n",
      "Loading ./data\\2020_5_ActualTotalLoad.csv\n",
      "Loading ./data\\2015_8_ActualTotalLoad.csv\n",
      "Loading ./data\\2015_9_ActualTotalLoad.csv\n",
      "Loading ./data\\2016_1_ActualTotalLoad.csv\n",
      "Loading ./data\\2016_2_ActualTotalLoad.csv\n",
      "Loading ./data\\2016_3_ActualTotalLoad.csv\n",
      "Loading ./data\\2016_4_ActualTotalLoad.csv\n",
      "Loading ./data\\2016_5_ActualTotalLoad.csv\n",
      "Loading ./data\\2016_6_ActualTotalLoad.csv\n",
      "Loading ./data\\2016_7_ActualTotalLoad.csv\n",
      "Loading ./data\\2016_8_ActualTotalLoad.csv\n",
      "Loading ./data\\2016_9_ActualTotalLoad.csv\n",
      "Loading ./data\\2016_10_ActualTotalLoad.csv\n",
      "Loading ./data\\2016_11_ActualTotalLoad.csv\n",
      "Loading ./data\\2016_12_ActualTotalLoad.csv\n",
      "Loading ./data\\2017_1_ActualTotalLoad.csv\n",
      "Loading ./data\\2017_2_ActualTotalLoad.csv\n",
      "Loading ./data\\2017_3_ActualTotalLoad.csv\n",
      "Loading ./data\\2017_4_ActualTotalLoad.csv\n",
      "Loading ./data\\2017_5_ActualTotalLoad.csv\n",
      "Loading ./data\\2017_6_ActualTotalLoad.csv\n",
      "Loading ./data\\2017_7_ActualTotalLoad.csv\n",
      "Loading ./data\\2017_8_ActualTotalLoad.csv\n",
      "Loading ./data\\2017_9_ActualTotalLoad.csv\n",
      "Loading ./data\\2017_10_ActualTotalLoad.csv\n",
      "Loading ./data\\2017_11_ActualTotalLoad.csv\n",
      "Loading ./data\\2017_12_ActualTotalLoad.csv\n",
      "Loading ./data\\2018_1_ActualTotalLoad.csv\n",
      "Loading ./data\\2018_2_ActualTotalLoad.csv\n",
      "Loading ./data\\2018_3_ActualTotalLoad.csv\n",
      "Loading ./data\\2018_4_ActualTotalLoad.csv\n",
      "Loading ./data\\2018_5_ActualTotalLoad.csv\n",
      "Loading ./data\\2018_6_ActualTotalLoad.csv\n",
      "Loading ./data\\2018_7_ActualTotalLoad.csv\n",
      "Loading ./data\\2018_8_ActualTotalLoad.csv\n",
      "Loading ./data\\2018_9_ActualTotalLoad.csv\n",
      "Loading ./data\\2018_10_ActualTotalLoad.csv\n",
      "Loading ./data\\2018_11_ActualTotalLoad.csv\n",
      "Loading ./data\\2018_12_ActualTotalLoad.csv\n",
      "Loading ./data\\2019_1_ActualTotalLoad.csv\n",
      "Loading ./data\\2019_2_ActualTotalLoad.csv\n",
      "Loading ./data\\2019_3_ActualTotalLoad.csv\n",
      "Loading ./data\\2019_4_ActualTotalLoad.csv\n",
      "Loading ./data\\2019_5_ActualTotalLoad.csv\n",
      "Loading ./data\\2019_6_ActualTotalLoad.csv\n",
      "Loading ./data\\2019_7_ActualTotalLoad.csv\n",
      "Loading ./data\\2019_8_ActualTotalLoad.csv\n",
      "Loading ./data\\2019_9_ActualTotalLoad.csv\n",
      "Loading ./data\\2019_10_ActualTotalLoad.csv\n",
      "Loading ./data\\2019_11_ActualTotalLoad.csv\n",
      "Loading ./data\\2019_12_ActualTotalLoad.csv\n",
      "Loading ./data\\2020_1_ActualTotalLoad.csv\n",
      "Loading ./data\\2020_2_ActualTotalLoad.csv\n",
      "Loading ./data\\2020_3_ActualTotalLoad.csv\n",
      "Loading ./data\\2020_4_ActualTotalLoad.csv\n"
     ]
    }
   ],
   "source": [
    "def read_single_csv_entso_e(file):\n",
    "    print(f'Loading {file}')\n",
    "    return pd.read_csv(file, sep = '\\t', encoding = 'utf-16') \n",
    "    \n",
    "\n",
    "def load_complete_entso_e_data(directory):\n",
    "    \n",
    "    pattern = f'{directory}*.csv'\n",
    "    files = glob.glob(pattern)\n",
    "    \n",
    "    each_csv_file = [read_single_csv_entso_e(file) for file in files]\n",
    "    data   = pd.concat(each_csv_file, ignore_index=True)\n",
    "\n",
    "    data[\"DateTime\"] = pd.to_datetime(data[\"DateTime\"]) \n",
    "    \n",
    "    data = data.sort_values(by = [\"AreaName\", \"DateTime\"])\n",
    "    \n",
    "    return data\n",
    "\n",
    "power_demand = load_complete_entso_e_data(DOWNLOAD_DIR)"
   ]
  },
  {
   "cell_type": "markdown",
   "metadata": {},
   "source": [
    "What is in there?"
   ]
  },
  {
   "cell_type": "code",
   "execution_count": 9,
   "metadata": {},
   "outputs": [
    {
     "data": {
      "text/html": [
       "<div>\n",
       "<style scoped>\n",
       "    .dataframe tbody tr th:only-of-type {\n",
       "        vertical-align: middle;\n",
       "    }\n",
       "\n",
       "    .dataframe tbody tr th {\n",
       "        vertical-align: top;\n",
       "    }\n",
       "\n",
       "    .dataframe thead th {\n",
       "        text-align: right;\n",
       "    }\n",
       "</style>\n",
       "<table border=\"1\" class=\"dataframe\">\n",
       "  <thead>\n",
       "    <tr style=\"text-align: right;\">\n",
       "      <th></th>\n",
       "      <th>Year</th>\n",
       "      <th>Month</th>\n",
       "      <th>Day</th>\n",
       "      <th>DateTime</th>\n",
       "      <th>ResolutionCode</th>\n",
       "      <th>areacode</th>\n",
       "      <th>AreaTypeCode</th>\n",
       "      <th>AreaName</th>\n",
       "      <th>MapCode</th>\n",
       "      <th>TotalLoadValue</th>\n",
       "      <th>UpdateTime</th>\n",
       "    </tr>\n",
       "  </thead>\n",
       "  <tbody>\n",
       "    <tr>\n",
       "      <th>36548</th>\n",
       "      <td>2014</td>\n",
       "      <td>12</td>\n",
       "      <td>31</td>\n",
       "      <td>2014-12-31 23:00:00</td>\n",
       "      <td>PT15M</td>\n",
       "      <td>10YDE-VE-------2</td>\n",
       "      <td>CTA</td>\n",
       "      <td>50Hertz CA</td>\n",
       "      <td>DE_50HzT</td>\n",
       "      <td>7412.14</td>\n",
       "      <td>2017-09-14 04:16:36</td>\n",
       "    </tr>\n",
       "    <tr>\n",
       "      <th>36764</th>\n",
       "      <td>2014</td>\n",
       "      <td>12</td>\n",
       "      <td>31</td>\n",
       "      <td>2014-12-31 23:15:00</td>\n",
       "      <td>PT15M</td>\n",
       "      <td>10YDE-VE-------2</td>\n",
       "      <td>CTA</td>\n",
       "      <td>50Hertz CA</td>\n",
       "      <td>DE_50HzT</td>\n",
       "      <td>7305.11</td>\n",
       "      <td>2017-09-14 04:16:36</td>\n",
       "    </tr>\n",
       "    <tr>\n",
       "      <th>36469</th>\n",
       "      <td>2014</td>\n",
       "      <td>12</td>\n",
       "      <td>31</td>\n",
       "      <td>2014-12-31 23:30:00</td>\n",
       "      <td>PT15M</td>\n",
       "      <td>10YDE-VE-------2</td>\n",
       "      <td>CTA</td>\n",
       "      <td>50Hertz CA</td>\n",
       "      <td>DE_50HzT</td>\n",
       "      <td>7263.03</td>\n",
       "      <td>2017-09-14 04:16:36</td>\n",
       "    </tr>\n",
       "    <tr>\n",
       "      <th>36570</th>\n",
       "      <td>2014</td>\n",
       "      <td>12</td>\n",
       "      <td>31</td>\n",
       "      <td>2014-12-31 23:45:00</td>\n",
       "      <td>PT15M</td>\n",
       "      <td>10YDE-VE-------2</td>\n",
       "      <td>CTA</td>\n",
       "      <td>50Hertz CA</td>\n",
       "      <td>DE_50HzT</td>\n",
       "      <td>7103.58</td>\n",
       "      <td>2017-09-14 04:16:36</td>\n",
       "    </tr>\n",
       "    <tr>\n",
       "      <th>690579</th>\n",
       "      <td>2015</td>\n",
       "      <td>1</td>\n",
       "      <td>1</td>\n",
       "      <td>2015-01-01 00:00:00</td>\n",
       "      <td>PT15M</td>\n",
       "      <td>10YDE-VE-------2</td>\n",
       "      <td>CTA</td>\n",
       "      <td>50Hertz CA</td>\n",
       "      <td>DE_50HzT</td>\n",
       "      <td>6958.62</td>\n",
       "      <td>2017-09-14 04:00:17</td>\n",
       "    </tr>\n",
       "    <tr>\n",
       "      <th>...</th>\n",
       "      <td>...</td>\n",
       "      <td>...</td>\n",
       "      <td>...</td>\n",
       "      <td>...</td>\n",
       "      <td>...</td>\n",
       "      <td>...</td>\n",
       "      <td>...</td>\n",
       "      <td>...</td>\n",
       "      <td>...</td>\n",
       "      <td>...</td>\n",
       "      <td>...</td>\n",
       "    </tr>\n",
       "    <tr>\n",
       "      <th>1376657</th>\n",
       "      <td>2020</td>\n",
       "      <td>5</td>\n",
       "      <td>6</td>\n",
       "      <td>2020-05-06 12:00:00</td>\n",
       "      <td>PT60M</td>\n",
       "      <td>10YCH-SWISSGRIDZ</td>\n",
       "      <td>CTA</td>\n",
       "      <td>swissgrid CA</td>\n",
       "      <td>CH</td>\n",
       "      <td>6978.58</td>\n",
       "      <td>2020-05-06 22:46:19</td>\n",
       "    </tr>\n",
       "    <tr>\n",
       "      <th>1376693</th>\n",
       "      <td>2020</td>\n",
       "      <td>5</td>\n",
       "      <td>6</td>\n",
       "      <td>2020-05-06 13:00:00</td>\n",
       "      <td>PT60M</td>\n",
       "      <td>10YCH-SWISSGRIDZ</td>\n",
       "      <td>CTA</td>\n",
       "      <td>swissgrid CA</td>\n",
       "      <td>CH</td>\n",
       "      <td>6460.15</td>\n",
       "      <td>2020-05-06 23:31:16</td>\n",
       "    </tr>\n",
       "    <tr>\n",
       "      <th>1376366</th>\n",
       "      <td>2020</td>\n",
       "      <td>5</td>\n",
       "      <td>6</td>\n",
       "      <td>2020-05-06 14:00:00</td>\n",
       "      <td>PT60M</td>\n",
       "      <td>10YCH-SWISSGRIDZ</td>\n",
       "      <td>CTA</td>\n",
       "      <td>swissgrid CA</td>\n",
       "      <td>CH</td>\n",
       "      <td>6856.83</td>\n",
       "      <td>2020-05-07 00:31:05</td>\n",
       "    </tr>\n",
       "    <tr>\n",
       "      <th>1377088</th>\n",
       "      <td>2020</td>\n",
       "      <td>5</td>\n",
       "      <td>6</td>\n",
       "      <td>2020-05-06 15:00:00</td>\n",
       "      <td>PT60M</td>\n",
       "      <td>10YCH-SWISSGRIDZ</td>\n",
       "      <td>CTA</td>\n",
       "      <td>swissgrid CA</td>\n",
       "      <td>CH</td>\n",
       "      <td>6639.24</td>\n",
       "      <td>2020-05-07 01:46:05</td>\n",
       "    </tr>\n",
       "    <tr>\n",
       "      <th>1377252</th>\n",
       "      <td>2020</td>\n",
       "      <td>5</td>\n",
       "      <td>6</td>\n",
       "      <td>2020-05-06 16:00:00</td>\n",
       "      <td>PT60M</td>\n",
       "      <td>10YCH-SWISSGRIDZ</td>\n",
       "      <td>CTA</td>\n",
       "      <td>swissgrid CA</td>\n",
       "      <td>CH</td>\n",
       "      <td>7046.00</td>\n",
       "      <td>2020-05-07 02:31:18</td>\n",
       "    </tr>\n",
       "  </tbody>\n",
       "</table>\n",
       "<p>8488577 rows × 11 columns</p>\n",
       "</div>"
      ],
      "text/plain": [
       "         Year  Month  Day            DateTime ResolutionCode  \\\n",
       "36548    2014     12   31 2014-12-31 23:00:00          PT15M   \n",
       "36764    2014     12   31 2014-12-31 23:15:00          PT15M   \n",
       "36469    2014     12   31 2014-12-31 23:30:00          PT15M   \n",
       "36570    2014     12   31 2014-12-31 23:45:00          PT15M   \n",
       "690579   2015      1    1 2015-01-01 00:00:00          PT15M   \n",
       "...       ...    ...  ...                 ...            ...   \n",
       "1376657  2020      5    6 2020-05-06 12:00:00          PT60M   \n",
       "1376693  2020      5    6 2020-05-06 13:00:00          PT60M   \n",
       "1376366  2020      5    6 2020-05-06 14:00:00          PT60M   \n",
       "1377088  2020      5    6 2020-05-06 15:00:00          PT60M   \n",
       "1377252  2020      5    6 2020-05-06 16:00:00          PT60M   \n",
       "\n",
       "                 areacode AreaTypeCode      AreaName   MapCode  \\\n",
       "36548    10YDE-VE-------2          CTA    50Hertz CA  DE_50HzT   \n",
       "36764    10YDE-VE-------2          CTA    50Hertz CA  DE_50HzT   \n",
       "36469    10YDE-VE-------2          CTA    50Hertz CA  DE_50HzT   \n",
       "36570    10YDE-VE-------2          CTA    50Hertz CA  DE_50HzT   \n",
       "690579   10YDE-VE-------2          CTA    50Hertz CA  DE_50HzT   \n",
       "...                   ...          ...           ...       ...   \n",
       "1376657  10YCH-SWISSGRIDZ          CTA  swissgrid CA        CH   \n",
       "1376693  10YCH-SWISSGRIDZ          CTA  swissgrid CA        CH   \n",
       "1376366  10YCH-SWISSGRIDZ          CTA  swissgrid CA        CH   \n",
       "1377088  10YCH-SWISSGRIDZ          CTA  swissgrid CA        CH   \n",
       "1377252  10YCH-SWISSGRIDZ          CTA  swissgrid CA        CH   \n",
       "\n",
       "         TotalLoadValue           UpdateTime  \n",
       "36548           7412.14  2017-09-14 04:16:36  \n",
       "36764           7305.11  2017-09-14 04:16:36  \n",
       "36469           7263.03  2017-09-14 04:16:36  \n",
       "36570           7103.58  2017-09-14 04:16:36  \n",
       "690579          6958.62  2017-09-14 04:00:17  \n",
       "...                 ...                  ...  \n",
       "1376657         6978.58  2020-05-06 22:46:19  \n",
       "1376693         6460.15  2020-05-06 23:31:16  \n",
       "1376366         6856.83  2020-05-07 00:31:05  \n",
       "1377088         6639.24  2020-05-07 01:46:05  \n",
       "1377252         7046.00  2020-05-07 02:31:18  \n",
       "\n",
       "[8488577 rows x 11 columns]"
      ]
     },
     "execution_count": 9,
     "metadata": {},
     "output_type": "execute_result"
    }
   ],
   "source": [
    "power_demand"
   ]
  },
  {
   "cell_type": "markdown",
   "metadata": {},
   "source": [
    "Hm... that's a lot of information. Let's reduce it..."
   ]
  },
  {
   "cell_type": "code",
   "execution_count": 10,
   "metadata": {},
   "outputs": [
    {
     "data": {
      "text/plain": [
       "Index(['Year', 'Month', 'Day', 'DateTime', 'ResolutionCode', 'areacode',\n",
       "       'AreaTypeCode', 'AreaName', 'MapCode', 'TotalLoadValue', 'UpdateTime'],\n",
       "      dtype='object')"
      ]
     },
     "execution_count": 10,
     "metadata": {},
     "output_type": "execute_result"
    }
   ],
   "source": [
    "power_demand.columns"
   ]
  },
  {
   "cell_type": "markdown",
   "metadata": {},
   "source": [
    "Which countries and regions are there?"
   ]
  },
  {
   "cell_type": "code",
   "execution_count": 11,
   "metadata": {},
   "outputs": [
    {
     "data": {
      "text/plain": [
       "array(['50Hertz CA', 'APG BZ', 'APG CA', 'AST BZ', 'AST CA', 'Albania',\n",
       "       'Amprion CA', 'Austria', 'Belgium', 'Bosnia Herzegovina',\n",
       "       'Bulgaria', 'CEPS BZ', 'CEPS CA', 'CGES BZ', 'CGES CA', 'CREOS CA',\n",
       "       'Croatia', 'Cyprus', 'Cyprus TSO BZ', 'Cyprus TSO CA',\n",
       "       'Czech Republic', 'DE-AT-LU BZ', 'DE-LU BZ', 'DK1  BZ', 'DK2 BZ',\n",
       "       'Denmark', 'ELES BZ', 'ELES CA', 'EMS BZ', 'EMS CA', 'ESO BZ',\n",
       "       'ESO CA', 'EirGrid CA', 'Elering BZ', 'Elering CA', 'Elia BZ',\n",
       "       'Elia CA', 'Energinet CA', 'Estonia', 'Fingrid BZ', 'Fingrid CA',\n",
       "       'Finland', 'France', 'Germany', 'Greece', 'HOPS BZ', 'HOPS CA',\n",
       "       'Hungary', 'IPTO BZ', 'IPTO CA', 'IT-Centre-North BZ',\n",
       "       'IT-Centre-South BZ', 'IT-North BZ', 'IT-Sardinia BZ',\n",
       "       'IT-Sicily BZ', 'IT-South BZ', 'Ireland', 'Ireland - (SEM) BZ',\n",
       "       'Italy', 'Italy CA', 'Latvia', 'Litgrid BZ', 'Litgrid CA',\n",
       "       'Lithuania', 'Luxembourg', 'MAVIR BZ', 'MAVIR CA', 'MD BZ',\n",
       "       'MD CA', 'MEPSO BZ', 'MEPSO CA', 'Montenegro', 'NO1 BZ', 'NO2 BZ',\n",
       "       'NO3 BZ', 'NO4 BZ', 'NO5 BZ', 'NOS BiH BZ', 'NOS BiH CA',\n",
       "       'National Grid BZ', 'National Grid CA', 'Netherlands',\n",
       "       'North Macedonia', 'Norway', 'OST BZ', 'OST CA', 'PSE SA BZ',\n",
       "       'PSE SA CA', 'Poland', 'Portugal', 'REE BZ', 'REE CA', 'REN BZ',\n",
       "       'REN CA', 'RTE BZ', 'RTE CA', 'Republic of Moldova', 'Romania',\n",
       "       'SE1 BZ', 'SE2 BZ', 'SE3 BZ', 'SE4 BZ', 'SEPS BZ', 'SEPS CA',\n",
       "       'SONI CA', 'Serbia', 'Slovakia', 'Slovenia', 'Spain',\n",
       "       'Statnett CA', 'SvK CA', 'Sweden', 'Switzerland', 'TenneT GER CA',\n",
       "       'TenneT NL BZ', 'TenneT NL CA', 'Transelectrica BZ',\n",
       "       'Transelectrica CA', 'TransnetBW CA', 'Ukraine', 'Ukraine BEI CA',\n",
       "       'Ukraine BZN', 'Ukraine IPS CA', 'United Kingdom', 'swissgrid BZ',\n",
       "       'swissgrid CA'], dtype=object)"
      ]
     },
     "execution_count": 11,
     "metadata": {},
     "output_type": "execute_result"
    }
   ],
   "source": [
    "power_demand[\"AreaName\"].unique()"
   ]
  },
  {
   "cell_type": "markdown",
   "metadata": {},
   "source": [
    "puh... a lot! Is Austria there?"
   ]
  },
  {
   "cell_type": "code",
   "execution_count": 12,
   "metadata": {},
   "outputs": [
    {
     "data": {
      "text/plain": [
       "True"
      ]
     },
     "execution_count": 12,
     "metadata": {},
     "output_type": "execute_result"
    }
   ],
   "source": [
    "\"Austria\" in power_demand[\"AreaName\"].values"
   ]
  },
  {
   "cell_type": "markdown",
   "metadata": {},
   "source": [
    "Let's get Austrian data then and..."
   ]
  },
  {
   "cell_type": "code",
   "execution_count": 21,
   "metadata": {
    "ExecuteTime": {
     "end_time": "2020-05-06T10:25:18.289193Z",
     "start_time": "2020-05-06T10:25:13.626072Z"
    }
   },
   "outputs": [],
   "source": [
    "def get_country_data(data, country):\n",
    "    return data[data[\"AreaName\"] == country]\n",
    "\n",
    "power_demand_at_mwh = get_country_data(power_demand, \"Austria\")"
   ]
  },
  {
   "cell_type": "markdown",
   "metadata": {},
   "source": [
    "## Exercise 1\n",
    "\n",
    "Let's do sum summary statistics. Calculate mean, standard deviation, min, max and the 25%, 50% and 75% quantile of the distribution. Hint: There may be a pandas function that does it for you...\n",
    "\n",
    "In a second step, do the same for Germany. Does the *10 rule hold? (everything in Germany is ten times as big as in Austria)"
   ]
  },
  {
   "cell_type": "code",
   "execution_count": null,
   "metadata": {},
   "outputs": [],
   "source": []
  },
  {
   "cell_type": "code",
   "execution_count": null,
   "metadata": {},
   "outputs": [],
   "source": []
  },
  {
   "cell_type": "markdown",
   "metadata": {},
   "source": [
    "Now let's plot Austrian data."
   ]
  },
  {
   "cell_type": "code",
   "execution_count": 50,
   "metadata": {
    "collapsed": true
   },
   "outputs": [
    {
     "data": {
      "image/png": "[encoded data removed]",
      "text/plain": [
       "<Figure size 432x288 with 1 Axes>"
      ]
     },
     "metadata": {
      "needs_background": "light"
     },
     "output_type": "display_data"
    }
   ],
   "source": [
    "def plot_data(data, ylabel, xlabel = \"Time\"):\n",
    "    \n",
    "    plt.plot(data[\"DateTime\"], data[\"TotalLoadValue\"])\n",
    "    plt.ylabel(ylabel)\n",
    "    plt.xlabel(xlabel)\n",
    "    \n",
    "plot_data(power_demand_at_mwh, \"Electricity load (MWh)\")"
   ]
  },
  {
   "cell_type": "markdown",
   "metadata": {},
   "source": [
    "Hm... there may be outliers. But how complete is Austrian data?"
   ]
  },
  {
   "cell_type": "code",
   "execution_count": 16,
   "metadata": {},
   "outputs": [
    {
     "name": "stdout",
     "output_type": "stream",
     "text": [
      "The data contains 0 NAs and 0 zeros\n"
     ]
    }
   ],
   "source": [
    "def check_data_completeness(data):\n",
    "    nmb_nas = np.sum(pd.isna(data[\"TotalLoadValue\"]))\n",
    "    nmb_0 = np.sum(data[\"TotalLoadValue\"] == 0) \n",
    "    \n",
    "    print(f'The data contains {nmb_nas} NAs and {nmb_0} zeros')\n",
    "    \n",
    "check_data_completeness(power_demand_at_mwh)"
   ]
  },
  {
   "cell_type": "markdown",
   "metadata": {},
   "source": [
    "How complete is e.g. North Macedonian data in comparison?"
   ]
  },
  {
   "cell_type": "code",
   "execution_count": 17,
   "metadata": {},
   "outputs": [
    {
     "name": "stdout",
     "output_type": "stream",
     "text": [
      "The data contains 0 NAs and 648 zeros\n"
     ]
    }
   ],
   "source": [
    "power_demand_nm_mwh = get_country_data(power_demand, \"North Macedonia\")\n",
    "check_data_completeness(power_demand_nm_mwh)"
   ]
  },
  {
   "cell_type": "markdown",
   "metadata": {},
   "source": [
    "## Exercise 2\n",
    "\n",
    "What is the time resolution of the dataset? There are several ways of finding it, try to find at least two."
   ]
  },
  {
   "cell_type": "code",
   "execution_count": null,
   "metadata": {},
   "outputs": [],
   "source": []
  },
  {
   "cell_type": "markdown",
   "metadata": {},
   "source": [
    "Let's aggregate the data to hourly data. "
   ]
  },
  {
   "cell_type": "code",
   "execution_count": 89,
   "metadata": {
    "ExecuteTime": {
     "end_time": "2020-05-06T11:08:27.399977Z",
     "start_time": "2020-05-06T11:08:26.963562Z"
    }
   },
   "outputs": [],
   "source": [
    "def aggregate_data_hourly(data):\n",
    "    \n",
    "    times = pd.DatetimeIndex(data[\"DateTime\"])\n",
    "    data_hourly = data.groupby([times.year, times.month, times.day, times.hour])\n",
    "    data_hourly_agg = data_hourly.agg({\"DateTime\":\"min\",\n",
    "                     \"TotalLoadValue\":\"mean\"}\n",
    "                    )\n",
    "    \n",
    "    return data_hourly_agg\n",
    "\n",
    "power_demand_at_hourly_mwh = aggregate_data_hourly(power_demand_at_mwh)"
   ]
  },
  {
   "cell_type": "code",
   "execution_count": 90,
   "metadata": {},
   "outputs": [
    {
     "data": {
      "image/png": "[encoded data removed]",
      "text/plain": [
       "<Figure size 432x288 with 1 Axes>"
      ]
     },
     "metadata": {
      "needs_background": "light"
     },
     "output_type": "display_data"
    }
   ],
   "source": [
    "plot_data(power_demand_at_hourly_mwh, \"Electricity load (MWh)\")"
   ]
  },
  {
   "cell_type": "markdown",
   "metadata": {},
   "source": [
    "Let's look into the data more closely and find some regularities..."
   ]
  },
  {
   "cell_type": "code",
   "execution_count": 34,
   "metadata": {},
   "outputs": [],
   "source": [
    "def aggregate_data_yearly(data):\n",
    "    \n",
    "    times = pd.DatetimeIndex(data[\"DateTime\"])\n",
    "    data_yearly = data.groupby([times.year])\n",
    "    data_yearly_agg = data_yearly.agg(\n",
    "                    {\"DateTime\":\"min\",\n",
    "                     \"TotalLoadValue\":\"sum\"}\n",
    "                    )\n",
    "    \n",
    "    return data_yearly_agg\n",
    "\n",
    "power_demand_at_yearly_mwh = aggregate_data_yearly(power_demand_at_hourly_mwh)"
   ]
  },
  {
   "cell_type": "code",
   "execution_count": 35,
   "metadata": {},
   "outputs": [
    {
     "data": {
      "text/html": [
       "<div>\n",
       "<style scoped>\n",
       "    .dataframe tbody tr th:only-of-type {\n",
       "        vertical-align: middle;\n",
       "    }\n",
       "\n",
       "    .dataframe tbody tr th {\n",
       "        vertical-align: top;\n",
       "    }\n",
       "\n",
       "    .dataframe thead th {\n",
       "        text-align: right;\n",
       "    }\n",
       "</style>\n",
       "<table border=\"1\" class=\"dataframe\">\n",
       "  <thead>\n",
       "    <tr style=\"text-align: right;\">\n",
       "      <th></th>\n",
       "      <th>DateTime</th>\n",
       "      <th>TotalLoadValue</th>\n",
       "    </tr>\n",
       "    <tr>\n",
       "      <th>DateTime</th>\n",
       "      <th></th>\n",
       "      <th></th>\n",
       "    </tr>\n",
       "  </thead>\n",
       "  <tbody>\n",
       "    <tr>\n",
       "      <th>2014</th>\n",
       "      <td>2014-12-01 23:00:00</td>\n",
       "      <td>4927758.7</td>\n",
       "    </tr>\n",
       "    <tr>\n",
       "      <th>2015</th>\n",
       "      <td>2015-01-01 00:00:00</td>\n",
       "      <td>59156452.0</td>\n",
       "    </tr>\n",
       "    <tr>\n",
       "      <th>2016</th>\n",
       "      <td>2016-01-01 00:00:00</td>\n",
       "      <td>62776939.7</td>\n",
       "    </tr>\n",
       "    <tr>\n",
       "      <th>2017</th>\n",
       "      <td>2017-01-01 00:00:00</td>\n",
       "      <td>63554438.9</td>\n",
       "    </tr>\n",
       "    <tr>\n",
       "      <th>2018</th>\n",
       "      <td>2018-01-01 00:00:00</td>\n",
       "      <td>63648345.1</td>\n",
       "    </tr>\n",
       "    <tr>\n",
       "      <th>2019</th>\n",
       "      <td>2019-01-01 00:00:00</td>\n",
       "      <td>63085228.5</td>\n",
       "    </tr>\n",
       "    <tr>\n",
       "      <th>2020</th>\n",
       "      <td>2020-01-01 00:00:00</td>\n",
       "      <td>21857894.6</td>\n",
       "    </tr>\n",
       "  </tbody>\n",
       "</table>\n",
       "</div>"
      ],
      "text/plain": [
       "                    DateTime  TotalLoadValue\n",
       "DateTime                                    \n",
       "2014     2014-12-01 23:00:00       4927758.7\n",
       "2015     2015-01-01 00:00:00      59156452.0\n",
       "2016     2016-01-01 00:00:00      62776939.7\n",
       "2017     2017-01-01 00:00:00      63554438.9\n",
       "2018     2018-01-01 00:00:00      63648345.1\n",
       "2019     2019-01-01 00:00:00      63085228.5\n",
       "2020     2020-01-01 00:00:00      21857894.6"
      ]
     },
     "execution_count": 35,
     "metadata": {},
     "output_type": "execute_result"
    }
   ],
   "source": [
    "power_demand_at_yearly_mwh"
   ]
  },
  {
   "cell_type": "markdown",
   "metadata": {},
   "source": [
    "That's really large, inconvinent numbers. The data is in MWh, let's convert it to TWh."
   ]
  },
  {
   "cell_type": "code",
   "execution_count": 36,
   "metadata": {},
   "outputs": [
    {
     "data": {
      "image/png": "[encoded data removed]",
      "text/plain": [
       "<Figure size 432x288 with 1 Axes>"
      ]
     },
     "metadata": {
      "needs_background": "light"
     },
     "output_type": "display_data"
    }
   ],
   "source": [
    "# let's convert the data to twh\n",
    "power_demand_at_yearly_twh = power_demand_at_yearly_mwh\n",
    "power_demand_at_yearly_twh[\"TotalLoadValue\"] = power_demand_at_yearly_mwh[\"TotalLoadValue\"] / 10**6 \n",
    "\n",
    "\n",
    "plot_data(power_demand_at_yearly_twh, \"Electricity load (TWh)\")"
   ]
  },
  {
   "cell_type": "markdown",
   "metadata": {},
   "source": [
    "Hm... 2014 and 2020 are really low, as they are incomplete. We should select the correct period therefore..."
   ]
  },
  {
   "cell_type": "code",
   "execution_count": 38,
   "metadata": {},
   "outputs": [
    {
     "data": {
      "image/png": "[encoded data removed]",
      "text/plain": [
       "<Figure size 432x288 with 1 Axes>"
      ]
     },
     "metadata": {
      "needs_background": "light"
     },
     "output_type": "display_data"
    }
   ],
   "source": [
    "def select_period(data, start_year, start_month, start_day, end_year, end_month, end_day):\n",
    "    lim_low = datetime.datetime(start_year, start_month, start_day)\n",
    "    lim_up = datetime.datetime(end_year, end_month, end_day)\n",
    "    \n",
    "    data = data[(data[\"DateTime\"] >= lim_low) & (data[\"DateTime\"] <= lim_up)]\n",
    "    \n",
    "    return data\n",
    "\n",
    "power_demand_at_yearly_full_years_twh = select_period(power_demand_at_yearly_twh, 2015, 1, 1, 2019, 12, 31)\n",
    "plot_data(power_demand_at_yearly_full_years_twh, \"Electricity load (TWh)\")"
   ]
  },
  {
   "cell_type": "markdown",
   "metadata": {},
   "source": [
    "Hm... hard to tell if there is a trend. Time-series too short. Let's neglect it for the moment."
   ]
  },
  {
   "cell_type": "code",
   "execution_count": 41,
   "metadata": {},
   "outputs": [],
   "source": [
    "def aggregate_data_monthly(data):\n",
    "    \n",
    "    times = pd.DatetimeIndex(data[\"DateTime\"])\n",
    "    data_monthly = data.groupby([times.year, times.month])\n",
    "    data_monthly_agg = data_monthly.agg({\"DateTime\":\"min\",\n",
    "                     \"TotalLoadValue\":\"sum\"}\n",
    "                    )\n",
    "    \n",
    "    return data_monthly_agg\n",
    "\n",
    "power_demand_at_monthly_mwh = aggregate_data_monthly(power_demand_at_mwh)"
   ]
  },
  {
   "cell_type": "code",
   "execution_count": 42,
   "metadata": {},
   "outputs": [
    {
     "data": {
      "image/png": "[encoded data removed]",
      "text/plain": [
       "<Figure size 432x288 with 1 Axes>"
      ]
     },
     "metadata": {
      "needs_background": "light"
     },
     "output_type": "display_data"
    }
   ],
   "source": [
    "plot_data(power_demand_at_monthly_mwh, \"Electricity load (MWh)\")"
   ]
  },
  {
   "cell_type": "markdown",
   "metadata": {},
   "source": [
    "hm... seems to be seasonal, right? But let's also select the correct period to show full years only."
   ]
  },
  {
   "cell_type": "code",
   "execution_count": 44,
   "metadata": {},
   "outputs": [
    {
     "data": {
      "image/png": "[encoded data removed]",
      "text/plain": [
       "<Figure size 432x288 with 1 Axes>"
      ]
     },
     "metadata": {
      "needs_background": "light"
     },
     "output_type": "display_data"
    }
   ],
   "source": [
    "power_demand_at_monthly_full_years_mwh = select_period(power_demand_at_monthly_mwh, 2015, 1, 1, 2019, 12, 31)\n",
    "plot_data(power_demand_at_monthly_full_years_mwh, \"Electricity load (MWh)\")"
   ]
  },
  {
   "cell_type": "markdown",
   "metadata": {},
   "source": [
    "To understand it better, we could simply take the monthly average..."
   ]
  },
  {
   "cell_type": "code",
   "execution_count": 45,
   "metadata": {},
   "outputs": [],
   "source": [
    "def aggregate_data_monthly_mean(data):\n",
    "        \n",
    "    times = pd.DatetimeIndex(data[\"DateTime\"])\n",
    "    data_monthly = data.groupby([times.month])\n",
    "    data_monthly_agg = data_monthly.agg({\"DateTime\":\"min\",\n",
    "                     \"TotalLoadValue\":\"mean\"}\n",
    "                    )\n",
    "    \n",
    "    data_monthly_agg[\"DateTime\"] = data_monthly_agg.index\n",
    "    \n",
    "    return data_monthly_agg\n",
    "\n",
    "power_demand_at_monthly_mean_mwh = aggregate_data_monthly_mean(power_demand_at_monthly_full_years_mwh)"
   ]
  },
  {
   "cell_type": "code",
   "execution_count": 51,
   "metadata": {},
   "outputs": [
    {
     "data": {
      "image/png": "[encoded data removed]",
      "text/plain": [
       "<Figure size 432x288 with 1 Axes>"
      ]
     },
     "metadata": {
      "needs_background": "light"
     },
     "output_type": "display_data"
    }
   ],
   "source": [
    "plot_data(power_demand_at_monthly_mean_mwh, \"Average monthly electricity load (MWh)\", \"Month of Year\")"
   ]
  },
  {
   "cell_type": "markdown",
   "metadata": {},
   "source": [
    "Hm... power demand seems to be seasonal.\n"
   ]
  },
  {
   "cell_type": "markdown",
   "metadata": {},
   "source": [
    "## Exercise 3\n",
    "\n",
    "There are at least two other time scales over which data shows seasonality. Can you find them and plot them? Hint: df.DateTime.dt.weekday may be very useful here."
   ]
  },
  {
   "cell_type": "code",
   "execution_count": null,
   "metadata": {},
   "outputs": [],
   "source": []
  },
  {
   "cell_type": "code",
   "execution_count": null,
   "metadata": {},
   "outputs": [],
   "source": []
  },
  {
   "cell_type": "markdown",
   "metadata": {},
   "source": [
    "Let's use all of what we learnt to predict demand! For the moment, we just use linear regression."
   ]
  },
  {
   "cell_type": "markdown",
   "metadata": {},
   "source": [
    "Our predicted value Y is the hourly demand."
   ]
  },
  {
   "cell_type": "code",
   "execution_count": 63,
   "metadata": {
    "ExecuteTime": {
     "end_time": "2020-05-06T11:14:14.596501Z",
     "start_time": "2020-05-06T11:14:14.593404Z"
    }
   },
   "outputs": [],
   "source": [
    "# Our predicted variable Y is the hourly load\n",
    "\n",
    "power_demand_at_hourly_reduced_mwh =  select_period(power_demand_at_hourly_mwh, 2015, 1, 1, 2019, 12, 31)\n",
    "\n",
    "Y = np.array(power_demand_at_hourly_reduced_mwh[\"TotalLoadValue\"]).reshape(-1, 1)"
   ]
  },
  {
   "cell_type": "code",
   "execution_count": 64,
   "metadata": {},
   "outputs": [
    {
     "data": {
      "text/plain": [
       "array([[5963.5],\n",
       "       [5726. ],\n",
       "       [5346.8],\n",
       "       ...,\n",
       "       [6348.4],\n",
       "       [6020.7],\n",
       "       [5725.2]])"
      ]
     },
     "execution_count": 64,
     "metadata": {},
     "output_type": "execute_result"
    }
   ],
   "source": [
    "Y"
   ]
  },
  {
   "cell_type": "markdown",
   "metadata": {},
   "source": [
    "Our predictor variables (or features) are simply months, weekdays, and hours. "
   ]
  },
  {
   "cell_type": "markdown",
   "metadata": {},
   "source": [
    "#### Exercise 4\n",
    "\n",
    "How can this be modelled? Who knows what a dummy is? How are they correctly used?"
   ]
  },
  {
   "cell_type": "code",
   "execution_count": 67,
   "metadata": {},
   "outputs": [],
   "source": [
    "monthly_dummies = np.array(pd.get_dummies(power_demand_at_hourly_reduced_mwh.DateTime.dt.month))[:, :11]\n",
    "weekday = np.array(pd.get_dummies(power_demand_at_hourly_reduced_mwh.DateTime.dt.weekday))[:, :6]\n",
    "hour = np.array(pd.get_dummies(power_demand_at_hourly_reduced_mwh.DateTime.dt.hour))[:, :23]"
   ]
  },
  {
   "cell_type": "code",
   "execution_count": 68,
   "metadata": {},
   "outputs": [
    {
     "data": {
      "text/plain": [
       "array([[1, 0, 0, ..., 0, 0, 0],\n",
       "       [1, 0, 0, ..., 0, 0, 0],\n",
       "       [1, 0, 0, ..., 0, 0, 0],\n",
       "       ...,\n",
       "       [0, 0, 0, ..., 0, 0, 0],\n",
       "       [0, 0, 0, ..., 0, 0, 0],\n",
       "       [0, 0, 0, ..., 0, 0, 0]], dtype=uint8)"
      ]
     },
     "execution_count": 68,
     "metadata": {},
     "output_type": "execute_result"
    }
   ],
   "source": [
    "monthly_dummies"
   ]
  },
  {
   "cell_type": "markdown",
   "metadata": {},
   "source": [
    "Joining them all together."
   ]
  },
  {
   "cell_type": "code",
   "execution_count": 69,
   "metadata": {
    "ExecuteTime": {
     "end_time": "2020-05-06T11:14:16.118041Z",
     "start_time": "2020-05-06T11:14:16.107512Z"
    }
   },
   "outputs": [],
   "source": [
    "X = np.append(monthly_dummies, weekday, axis = 1)\n",
    "X = np.append(X, hour, axis = 1)"
   ]
  },
  {
   "cell_type": "code",
   "execution_count": 70,
   "metadata": {},
   "outputs": [
    {
     "data": {
      "text/plain": [
       "(43801, 40)"
      ]
     },
     "execution_count": 70,
     "metadata": {},
     "output_type": "execute_result"
    }
   ],
   "source": [
    "X.shape"
   ]
  },
  {
   "cell_type": "markdown",
   "metadata": {},
   "source": [
    "Let's put this into a linear model."
   ]
  },
  {
   "cell_type": "code",
   "execution_count": 71,
   "metadata": {
    "ExecuteTime": {
     "end_time": "2020-05-06T11:14:20.319935Z",
     "start_time": "2020-05-06T11:14:20.307397Z"
    }
   },
   "outputs": [
    {
     "name": "stdout",
     "output_type": "stream",
     "text": [
      "Coefficients: \n",
      " [[  170.53653948   278.9677449   -186.83301692  -952.89495017\n",
      "  -1285.67379113 -1161.29912492 -1223.56589512 -1319.8380254\n",
      "  -1034.28767048  -727.67448389  -103.9600221   1420.77383107\n",
      "   1564.94913696  1620.38435994  1547.87649925  1387.19854353\n",
      "    466.50811608  -174.52534188  -305.76783562  -310.63528767\n",
      "     -3.95989041   675.97024658  1436.40887671  1966.8009863\n",
      "   2158.65989041  2264.20471233  2346.57808219  2218.11523288\n",
      "   2060.67687671  1939.6530411   1861.43468493  1840.11884932\n",
      "   1952.00383562  2114.83024658  2035.16553425  1739.64372603\n",
      "   1324.85435616   983.9390137    659.33994521   298.82060274]]\n"
     ]
    }
   ],
   "source": [
    "#regr = linear_model.LinearRegression(fit_intercept = False)\n",
    "regr = linear_model.LinearRegression()\n",
    "\n",
    "# Train the model using the training sets\n",
    "regr.fit(X, Y)\n",
    "\n",
    "# The coefficients\n",
    "print('Coefficients: \\n', regr.coef_)\n"
   ]
  },
  {
   "cell_type": "markdown",
   "metadata": {},
   "source": [
    "What does the intercept of the regression tell us?"
   ]
  },
  {
   "cell_type": "code",
   "execution_count": 72,
   "metadata": {},
   "outputs": [
    {
     "data": {
      "text/plain": [
       "array([5320.22513637])"
      ]
     },
     "execution_count": 72,
     "metadata": {},
     "output_type": "execute_result"
    }
   ],
   "source": [
    "regr.intercept_"
   ]
  },
  {
   "cell_type": "markdown",
   "metadata": {},
   "source": [
    "Let's predict with the model on the training data..."
   ]
  },
  {
   "cell_type": "code",
   "execution_count": 73,
   "metadata": {
    "ExecuteTime": {
     "end_time": "2020-05-06T11:14:22.632443Z",
     "start_time": "2020-05-06T11:14:22.628494Z"
    }
   },
   "outputs": [],
   "source": [
    "pred = regr.predict(X)"
   ]
  },
  {
   "cell_type": "markdown",
   "metadata": {},
   "source": [
    "How does it look like?"
   ]
  },
  {
   "cell_type": "code",
   "execution_count": 74,
   "metadata": {
    "ExecuteTime": {
     "end_time": "2020-05-06T11:14:25.661327Z",
     "start_time": "2020-05-06T11:14:25.486522Z"
    }
   },
   "outputs": [
    {
     "data": {
      "text/plain": [
       "[<matplotlib.lines.Line2D at 0x20486508a88>]"
      ]
     },
     "execution_count": 74,
     "metadata": {},
     "output_type": "execute_result"
    },
    {
     "data": {
      "image/png": "[encoded data removed]",
      "text/plain": [
       "<Figure size 432x288 with 1 Axes>"
      ]
     },
     "metadata": {
      "needs_background": "light"
     },
     "output_type": "display_data"
    }
   ],
   "source": [
    "plt.plot(Y[1000:1100, :])\n",
    "plt.plot(pred[1000:1100, :], alpha = 0.7)"
   ]
  },
  {
   "cell_type": "markdown",
   "metadata": {},
   "source": [
    "Pretty cool for such a simple model. How does it look over the whole range?"
   ]
  },
  {
   "cell_type": "code",
   "execution_count": 75,
   "metadata": {},
   "outputs": [
    {
     "data": {
      "text/plain": [
       "[<matplotlib.lines.Line2D at 0x20487758c08>]"
      ]
     },
     "execution_count": 75,
     "metadata": {},
     "output_type": "execute_result"
    },
    {
     "data": {
      "image/png": "[encoded data removed]",
      "text/plain": [
       "<Figure size 432x288 with 1 Axes>"
      ]
     },
     "metadata": {
      "needs_background": "light"
     },
     "output_type": "display_data"
    }
   ],
   "source": [
    "plt.plot(Y)\n",
    "plt.plot(pred, alpha = 0.5)"
   ]
  },
  {
   "cell_type": "markdown",
   "metadata": {},
   "source": [
    "And R^2?"
   ]
  },
  {
   "cell_type": "code",
   "execution_count": 76,
   "metadata": {},
   "outputs": [
    {
     "data": {
      "text/plain": [
       "0.784721812159068"
      ]
     },
     "execution_count": 76,
     "metadata": {},
     "output_type": "execute_result"
    }
   ],
   "source": [
    "r2_score(Y, pred)"
   ]
  },
  {
   "cell_type": "markdown",
   "metadata": {},
   "source": [
    "Wowh. This is pretty high for such a simple model. It means we have rather regular data."
   ]
  },
  {
   "cell_type": "markdown",
   "metadata": {},
   "source": [
    "## Exercise 5\n",
    "\n",
    "Before you do the exercise, let's vote. What expectation do you have when comparing the mean of Y and of pred?\n",
    "\n",
    "Now, calculate the mean of the two values."
   ]
  },
  {
   "cell_type": "code",
   "execution_count": null,
   "metadata": {},
   "outputs": [],
   "source": []
  },
  {
   "cell_type": "markdown",
   "metadata": {},
   "source": [
    "## Exercise 6\n",
    "\n",
    "Now let's work on the results of the regression. What do coefficients tell us? \n",
    "\n",
    "Now plot the dummies for months, weekdays and hours seperately.\n"
   ]
  },
  {
   "cell_type": "code",
   "execution_count": null,
   "metadata": {},
   "outputs": [],
   "source": [
    "coefs = np.array(regr.coef_).T\n",
    "\n",
    "#months"
   ]
  },
  {
   "cell_type": "code",
   "execution_count": null,
   "metadata": {},
   "outputs": [],
   "source": [
    "#weekdays"
   ]
  },
  {
   "cell_type": "code",
   "execution_count": null,
   "metadata": {},
   "outputs": [],
   "source": [
    "#hours"
   ]
  },
  {
   "cell_type": "markdown",
   "metadata": {},
   "source": [
    "## Exercise 7\n",
    "\n",
    "How do residuals look like now, i.e. the difference between actual value and prediction? \n",
    "\n",
    "Plot the residuals."
   ]
  },
  {
   "cell_type": "code",
   "execution_count": null,
   "metadata": {
    "ExecuteTime": {
     "end_time": "2020-05-06T11:17:26.318943Z",
     "start_time": "2020-05-06T11:17:26.146591Z"
    }
   },
   "outputs": [],
   "source": []
  }
 ],
 "metadata": {
  "kernelspec": {
   "display_name": "Python [conda env:scientific-computing]",
   "language": "python",
   "name": "conda-env-scientific-computing-py"
  },
  "language_info": {
   "codemirror_mode": {
    "name": "ipython",
    "version": 3
   },
   "file_extension": ".py",
   "mimetype": "text/x-python",
   "name": "python",
   "nbconvert_exporter": "python",
   "pygments_lexer": "ipython3",
   "version": "3.7.6"
  }
 },
 "nbformat": 4,
 "nbformat_minor": 2
}
